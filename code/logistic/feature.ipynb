{
 "cells": [
  {
   "cell_type": "code",
   "execution_count": 4,
   "metadata": {},
   "outputs": [
    {
     "name": "stdout",
     "output_type": "stream",
     "text": [
      "Wrong number of arguments!\n",
      "Correct usage is 'python feature.py <train_input> <validation_input> <test_input> <dict_input> <formatted_train_out> <formatted_validation_out> <formatted_test_out> <feature_flag>'\n"
     ]
    }
   ],
   "source": [
    "import sys\n",
    "\n",
    "def main():\n",
    "    train_in = sys.argv[1]\n",
    "    valid_in = sys.argv[2]\n",
    "    test_in = sys.argv[3]\n",
    "    dict_in = sys.argv[4]\n",
    "    train_out = sys.argv[5]\n",
    "    valid_out = sys.argv[6]\n",
    "    test_out = sys.argv[7]\n",
    "    feature_flag = sys.argv[8]\n",
    "    \n",
    "if __name__ == '__main__':\n",
    "    if len(sys.argv) == 9:\n",
    "        main()\n",
    "    else:\n",
    "        print(\"Wrong number of arguments!\\n\"\n",
    "              + \"Correct usage is 'python feature.py <train_input> <validation_input> <test_input> <dict_input> <formatted_train_out> <formatted_validation_out> <formatted_test_out> <feature_flag>'\")"
   ]
  },
  {
   "cell_type": "code",
   "execution_count": 8,
   "metadata": {},
   "outputs": [],
   "source": [
    "import csv\n",
    "\n",
    "############################## File I/O ##############################\n",
    "def read_vocab(filename):\n",
    "    with open(filename, 'r') as file:\n",
    "        lines = map(lambda x : x.split(), file.readlines())\n",
    "        return {row[0] : int(row[1]) for row in lines}\n",
    "    "
   ]
  },
  {
   "cell_type": "code",
   "execution_count": 10,
   "metadata": {},
   "outputs": [
    {
     "data": {
      "text/plain": [
       "39176"
      ]
     },
     "execution_count": 10,
     "metadata": {},
     "output_type": "execute_result"
    }
   ],
   "source": [
    "_vocab = read_vocab(\"dict.txt\")\n",
    "len(_vocab)"
   ]
  },
  {
   "cell_type": "code",
   "execution_count": 33,
   "metadata": {},
   "outputs": [],
   "source": [
    "import numpy as np\n",
    "\n",
    "def read_data(filename):\n",
    "    with open(filename, \"r\") as file:\n",
    "        lines = file.readlines()\n",
    "    \n",
    "    X = [line.split() for line in lines]\n",
    "    y = [int(line.pop(0)) for line in X]\n",
    "\n",
    "    return y, X\n"
   ]
  },
  {
   "cell_type": "code",
   "execution_count": 36,
   "metadata": {},
   "outputs": [
    {
     "name": "stdout",
     "output_type": "stream",
     "text": [
      "Data: 350 entries, Labels: 350 entries\n"
     ]
    }
   ],
   "source": [
    "small_labels, small_data = read_data(\"smalldata/smalltrain_data.tsv\")\n",
    "\n",
    "print(f'Data: {len(small_data)} entries, Labels: {len(small_labels)} entries')\n"
   ]
  },
  {
   "cell_type": "code",
   "execution_count": 59,
   "metadata": {},
   "outputs": [],
   "source": [
    "############################## Model 1 #########################################\n",
    "def model_1(data):\n",
    "    list_of_sets = []   # must maintain order\n",
    "\n",
    "    for sample in data:\n",
    "        raw = set(sample)                   # retrieve unique words in this sample\n",
    "        words = raw.intersection(_vocab)    # only keep the ones in the vocab\n",
    "        list_of_sets.append(words)          # add to our list\n",
    "\n",
    "    return list_of_sets\n",
    "\n",
    "############################## Model 2 #########################################\n",
    "def model_2(data):\n",
    "    list_of_sets = []   # must maintain order\n",
    "\n",
    "    for sample in data:\n",
    "        raw = set(key if count[key] < THRESHOLD else None for key in count.keys())\n",
    "        words = raw.intersection(_vocab)    # only keep the ones in the vocab\n",
    "        list_of_sets.append(words)          # add to our list\n",
    "\n",
    "    return list_of_sets"
   ]
  },
  {
   "cell_type": "code",
   "execution_count": 67,
   "metadata": {},
   "outputs": [],
   "source": [
    "small_model_1 = model_1(small_data)\n",
    "\n",
    "def write_formatted_data(data, labels, filename):\n",
    "    with open(filename, 'w') as file:\n",
    "        for idx, row in enumerate(data):\n",
    "            string = str(labels[idx]) + '\\t' + '\\t'.join([str(_vocab[word]) + ':1' for word in row]) + '\\n'\n",
    "\n",
    "            file.write(string)"
   ]
  },
  {
   "cell_type": "code",
   "execution_count": 68,
   "metadata": {},
   "outputs": [],
   "source": [
    "write_formatted_data(small_model_1, small_labels, \"smalltestwrite.tsv\")"
   ]
  }
 ],
 "metadata": {
  "kernelspec": {
   "display_name": "Python 3",
   "language": "python",
   "name": "python3"
  },
  "language_info": {
   "codemirror_mode": {
    "name": "ipython",
    "version": 3
   },
   "file_extension": ".py",
   "mimetype": "text/x-python",
   "name": "python",
   "nbconvert_exporter": "python",
   "pygments_lexer": "ipython3",
   "version": "3.7.1"
  }
 },
 "nbformat": 4,
 "nbformat_minor": 2
}
